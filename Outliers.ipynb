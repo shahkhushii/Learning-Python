{
 "cells": [
  {
   "cell_type": "code",
   "execution_count": 47,
   "id": "af6d151a-18c1-4570-a2d9-7f7914c736bc",
   "metadata": {},
   "outputs": [],
   "source": [
    "import numpy as np\n",
    "import matplotlib.pyplot as plt\n",
    "%matplotlib inline"
   ]
  },
  {
   "cell_type": "markdown",
   "id": "d7cbc1e8-d659-4850-8af4-6ad2a9a52a77",
   "metadata": {},
   "source": [
    "## By Zscore"
   ]
  },
  {
   "cell_type": "code",
   "execution_count": 48,
   "id": "0144519e-b1f2-46f8-bf1b-f22844febad5",
   "metadata": {},
   "outputs": [],
   "source": [
    "ds=[54.97, 48.62, 56.48, 65.23, 47.66, 47.66, 65.79, 57.67, 45.31, 55.43, 45.37, 45.34, 52.42, 30.87, 32.75, 44.38, 39.87, 53.14, 40.92, 35.88, 64.66, 47.74, 50.68, 35.75, 44.56, 51.11, 38.49, 150.00, -50.00, 200.00]"
   ]
  },
  {
   "cell_type": "code",
   "execution_count": 51,
   "id": "c3d23c19-a563-4606-b68f-da53828e0d13",
   "metadata": {},
   "outputs": [],
   "source": [
    "outliers=[]\n",
    "def detect_outliers(data):\n",
    "    threshold=2\n",
    "    mean=np.mean(data)\n",
    "    std=np.std(data)\n",
    "\n",
    "    for i in data:\n",
    "        zscore= (i-mean)/std\n",
    "        if np.abs(zscore)>threshold:\n",
    "            outliers.append(i)\n",
    "\n",
    "    return outliers\n"
   ]
  },
  {
   "cell_type": "code",
   "execution_count": 18,
   "id": "1d544f4f-3712-4cb2-a7f8-2bc62ae49c08",
   "metadata": {},
   "outputs": [
    {
     "data": {
      "text/plain": [
       "(array([ 1.,  0.,  0., 16., 11.,  0.,  0.,  0.,  1.,  1.]),\n",
       " array([-50., -25.,   0.,  25.,  50.,  75., 100., 125., 150., 175., 200.]),\n",
       " <BarContainer object of 10 artists>)"
      ]
     },
     "execution_count": 18,
     "metadata": {},
     "output_type": "execute_result"
    },
    {
     "data": {
      "image/png": "[encoded data removed]",
      "text/plain": [
       "<Figure size 640x480 with 1 Axes>"
      ]
     },
     "metadata": {},
     "output_type": "display_data"
    }
   ],
   "source": [
    "plt.hist(ds)"
   ]
  },
  {
   "cell_type": "code",
   "execution_count": 52,
   "id": "4271a83b-0ee1-4839-ba36-3ba6d1bea831",
   "metadata": {},
   "outputs": [
    {
     "data": {
      "text/plain": [
       "[150.0, -50.0, 200.0]"
      ]
     },
     "execution_count": 52,
     "metadata": {},
     "output_type": "execute_result"
    }
   ],
   "source": [
    "detect_outliers(ds)\n"
   ]
  },
  {
   "cell_type": "markdown",
   "id": "11d312ed-725a-4b7e-852e-d17202df7878",
   "metadata": {},
   "source": [
    "## By IQR(Inter Quartile Range)"
   ]
  },
  {
   "cell_type": "code",
   "execution_count": 53,
   "id": "8d19ac12-214d-49fd-a38a-589faddd116e",
   "metadata": {},
   "outputs": [],
   "source": [
    "ds=sorted(ds)"
   ]
  },
  {
   "cell_type": "code",
   "execution_count": 54,
   "id": "9fe355bb-4022-44a7-ad11-dce12805a97e",
   "metadata": {},
   "outputs": [
    {
     "data": {
      "text/plain": [
       "[-50.0,\n",
       " 30.87,\n",
       " 32.75,\n",
       " 35.75,\n",
       " 35.88,\n",
       " 38.49,\n",
       " 39.87,\n",
       " 40.92,\n",
       " 44.38,\n",
       " 44.56,\n",
       " 45.31,\n",
       " 45.34,\n",
       " 45.37,\n",
       " 47.66,\n",
       " 47.66,\n",
       " 47.74,\n",
       " 48.62,\n",
       " 50.68,\n",
       " 51.11,\n",
       " 52.42,\n",
       " 53.14,\n",
       " 54.97,\n",
       " 55.43,\n",
       " 56.48,\n",
       " 57.67,\n",
       " 64.66,\n",
       " 65.23,\n",
       " 65.79,\n",
       " 150.0,\n",
       " 200.0]"
      ]
     },
     "execution_count": 54,
     "metadata": {},
     "output_type": "execute_result"
    }
   ],
   "source": [
    "ds"
   ]
  },
  {
   "cell_type": "code",
   "execution_count": 68,
   "id": "f83298e2-bf0d-4dc6-9d95-188c9d7a89ce",
   "metadata": {},
   "outputs": [
    {
     "name": "stdout",
     "output_type": "stream",
     "text": [
      "41.785000000000004 55.315\n"
     ]
    }
   ],
   "source": [
    "q1,q3=np.percentile(ds,[25,75])\n",
    "\n",
    "print(q1,q3)"
   ]
  },
  {
   "cell_type": "code",
   "execution_count": 69,
   "id": "13323ad5-2b64-4e7b-aecc-aee9955c9467",
   "metadata": {},
   "outputs": [
    {
     "name": "stdout",
     "output_type": "stream",
     "text": [
      "13.529999999999994\n"
     ]
    }
   ],
   "source": [
    "iqr=q3-q1\n",
    "print(iqr)"
   ]
  },
  {
   "cell_type": "code",
   "execution_count": 76,
   "id": "f93cafba-0c4b-4657-ac7f-a2b0e9fc3b15",
   "metadata": {},
   "outputs": [
    {
     "name": "stdout",
     "output_type": "stream",
     "text": [
      "21.490000000000013 75.60999999999999\n"
     ]
    }
   ],
   "source": [
    "lower_fence=q1-(1.5*iqr)\n",
    "upper_fence=q3+(1.5*iqr)\n",
    "print(lower_fence,upper_fence)"
   ]
  },
  {
   "cell_type": "code",
   "execution_count": 89,
   "id": "87f4ff6c-7158-409d-a937-c440f43c4d39",
   "metadata": {
    "scrolled": true
   },
   "outputs": [
    {
     "name": "stdout",
     "output_type": "stream",
     "text": [
      "[-50. 150. 200.]\n"
     ]
    }
   ],
   "source": [
    "ds=np.array(ds)\n",
    "outliers= ds[(ds < lower_fence) | (ds > upper_fence)]\n",
    "print(outliers)"
   ]
  },
  {
   "cell_type": "code",
   "execution_count": 72,
   "id": "9acb531f-5d5c-4473-8764-67ed735212f4",
   "metadata": {},
   "outputs": [],
   "source": [
    "import seaborn as sns"
   ]
  },
  {
   "cell_type": "code",
   "execution_count": 73,
   "id": "d2fbf593-39a2-4ccd-b4e8-a1883231a6bb",
   "metadata": {},
   "outputs": [
    {
     "data": {
      "text/plain": [
       "<Axes: >"
      ]
     },
     "execution_count": 73,
     "metadata": {},
     "output_type": "execute_result"
    },
    {
     "data": {
      "image/png": "[encoded data removed]",
      "text/plain": [
       "<Figure size 640x480 with 1 Axes>"
      ]
     },
     "metadata": {},
     "output_type": "display_data"
    }
   ],
   "source": [
    "sns.boxplot(ds)"
   ]
  },
  {
   "cell_type": "code",
   "execution_count": null,
   "id": "67f23dfb-dccc-4029-8e17-5527b0db5265",
   "metadata": {},
   "outputs": [],
   "source": []
  }
 ],
 "metadata": {
  "kernelspec": {
   "display_name": "Python 3 (ipykernel)",
   "language": "python",
   "name": "python3"
  },
  "language_info": {
   "codemirror_mode": {
    "name": "ipython",
    "version": 3
   },
   "file_extension": ".py",
   "mimetype": "text/x-python",
   "name": "python",
   "nbconvert_exporter": "python",
   "pygments_lexer": "ipython3",
   "version": "3.11.7"
  }
 },
 "nbformat": 4,
 "nbformat_minor": 5
}
